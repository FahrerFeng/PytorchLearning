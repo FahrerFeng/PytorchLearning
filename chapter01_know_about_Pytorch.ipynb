{
 "cells": [
  {
   "cell_type": "markdown",
   "metadata": {},
   "source": [
    "# Tensor \n",
    "Tensor is a very important data type in Pytorch (even in Tensorflow). It can be a scala,array or n-dimensional matrix. Tensor is in some circumstance the same as \"ndarray\" in Numpy, for example its characteristics, shape, dtype... The difference between two libraries is that the operation of tensor can be **accelerated** by GPU."
   ]
  },
  {
   "cell_type": "code",
   "execution_count": 4,
   "metadata": {},
   "outputs": [],
   "source": [
    "import torch as t"
   ]
  },
  {
   "cell_type": "markdown",
   "metadata": {},
   "source": [
    "## Build up tensor\n",
    "1. Using Tensor"
   ]
  },
  {
   "cell_type": "code",
   "execution_count": 9,
   "metadata": {},
   "outputs": [
    {
     "name": "stdout",
     "output_type": "stream",
     "text": [
      "torch.Size([5, 3])\n",
      "torch.float32\n"
     ]
    }
   ],
   "source": [
    "# build a 5x3 matrix, no initialization\n",
    "x = t.Tensor(5, 3)\n",
    "# print the shape of tensor in form of tuple\n",
    "print(x.shape)\n",
    "# print the data type of the established tensor\n",
    "print(x.dtype)"
   ]
  },
  {
   "cell_type": "markdown",
   "metadata": {},
   "source": [
    "2.Using distribution"
   ]
  },
  {
   "cell_type": "code",
   "execution_count": 12,
   "metadata": {},
   "outputs": [
    {
     "name": "stdout",
     "output_type": "stream",
     "text": [
      "tensor([[0.3027, 0.4171, 0.4132],\n",
      "        [0.9134, 0.7225, 0.0258],\n",
      "        [0.0769, 0.8407, 0.9045],\n",
      "        [0.1537, 0.7150, 0.2110],\n",
      "        [0.6269, 0.2360, 0.0030]])\n",
      "torch.Size([5, 3])\n",
      "torch.Size([5, 3])\n"
     ]
    }
   ],
   "source": [
    "# use uniform distribution 0~1 to build the 2-d tensor\n",
    "x = t.rand(5, 3)\n",
    "print(x)\n",
    "print(x.size()) # tuple\n",
    "print(x.shape) #tuple"
   ]
  },
  {
   "cell_type": "code",
   "execution_count": null,
   "metadata": {},
   "outputs": [],
   "source": []
  }
 ],
 "metadata": {
  "kernelspec": {
   "display_name": "Python 3",
   "language": "python",
   "name": "python3"
  },
  "language_info": {
   "codemirror_mode": {
    "name": "ipython",
    "version": 3
   },
   "file_extension": ".py",
   "mimetype": "text/x-python",
   "name": "python",
   "nbconvert_exporter": "python",
   "pygments_lexer": "ipython3",
   "version": "3.8.5"
  }
 },
 "nbformat": 4,
 "nbformat_minor": 4
}
